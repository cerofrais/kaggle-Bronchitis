{
 "cells": [
  {
   "cell_type": "code",
   "execution_count": 2,
   "metadata": {},
   "outputs": [],
   "source": [
    "import numpy as np\n",
    "import pandas as pd\n",
    "import os"
   ]
  },
  {
   "cell_type": "code",
   "execution_count": 3,
   "metadata": {},
   "outputs": [],
   "source": [
    "df_y=pd.read_csv(\"Datasets/Bronchitis/Train_Labels.csv\")"
   ]
  },
  {
   "cell_type": "code",
   "execution_count": 4,
   "metadata": {},
   "outputs": [
    {
     "data": {
      "text/html": [
       "<div>\n",
       "<style scoped>\n",
       "    .dataframe tbody tr th:only-of-type {\n",
       "        vertical-align: middle;\n",
       "    }\n",
       "\n",
       "    .dataframe tbody tr th {\n",
       "        vertical-align: top;\n",
       "    }\n",
       "\n",
       "    .dataframe thead th {\n",
       "        text-align: right;\n",
       "    }\n",
       "</style>\n",
       "<table border=\"1\" class=\"dataframe\">\n",
       "  <thead>\n",
       "    <tr style=\"text-align: right;\">\n",
       "      <th></th>\n",
       "      <th>Images</th>\n",
       "      <th>Labels</th>\n",
       "    </tr>\n",
       "  </thead>\n",
       "  <tbody>\n",
       "    <tr>\n",
       "      <th>0</th>\n",
       "      <td>CR_0258</td>\n",
       "      <td>0</td>\n",
       "    </tr>\n",
       "    <tr>\n",
       "      <th>373</th>\n",
       "      <td>MR_0008</td>\n",
       "      <td>0</td>\n",
       "    </tr>\n",
       "    <tr>\n",
       "      <th>369</th>\n",
       "      <td>MR_0077</td>\n",
       "      <td>0</td>\n",
       "    </tr>\n",
       "    <tr>\n",
       "      <th>368</th>\n",
       "      <td>CR_0206</td>\n",
       "      <td>0</td>\n",
       "    </tr>\n",
       "    <tr>\n",
       "      <th>367</th>\n",
       "      <td>CR_0054</td>\n",
       "      <td>0</td>\n",
       "    </tr>\n",
       "  </tbody>\n",
       "</table>\n",
       "</div>"
      ],
      "text/plain": [
       "      Images  Labels\n",
       "0    CR_0258       0\n",
       "373  MR_0008       0\n",
       "369  MR_0077       0\n",
       "368  CR_0206       0\n",
       "367  CR_0054       0"
      ]
     },
     "execution_count": 4,
     "metadata": {},
     "output_type": "execute_result"
    }
   ],
   "source": [
    "df_y=df_y.sort_values(by=['Labels'])\n",
    "df_y.head()"
   ]
  },
  {
   "cell_type": "code",
   "execution_count": 19,
   "metadata": {},
   "outputs": [],
   "source": [
    "#getting all the images that doesnt have bronchitis\n",
    "class0=df_y['Images'][df_y['Labels']==0]\n",
    "#getting all the images that doesnt have bronchitis\n",
    "class1=df_y['Images'][df_y['Labels']==1]"
   ]
  },
  {
   "cell_type": "code",
   "execution_count": 32,
   "metadata": {},
   "outputs": [],
   "source": [
    "import shutil\n",
    "import random"
   ]
  },
  {
   "cell_type": "code",
   "execution_count": 35,
   "metadata": {},
   "outputs": [
    {
     "name": "stdout",
     "output_type": "stream",
     "text": [
      "Datasets/Bronchitis/Train_Images/CR_0258.png\n",
      "Datasets/Bronchitis/Train_Images/MR_0008.png\n",
      "Datasets/Bronchitis/Train_Images/MR_0077.png\n",
      "Datasets/Bronchitis/Train_Images/CR_0206.png\n",
      "Datasets/Bronchitis/Train_Images/CR_0054.png\n",
      "Datasets/Bronchitis/Train_Images/MR_0069.png\n",
      "Datasets/Bronchitis/Train_Images/CR_0301.png\n",
      "Datasets/Bronchitis/Train_Images/CR_0193.png\n",
      "Datasets/Bronchitis/Train_Images/CR_0008.png\n",
      "Datasets/Bronchitis/Train_Images/CR_0123.png\n"
     ]
    }
   ],
   "source": [
    "for each in class0[:10] :\n",
    "    print('Datasets/Bronchitis/Train_Images/'+each+'.png')"
   ]
  },
  {
   "cell_type": "code",
   "execution_count": 37,
   "metadata": {},
   "outputs": [],
   "source": [
    "#srcfile='Datasets/Bronchitis/Train_Images/CR_0258.png'\n",
    "#dstdir='Newbronchdataset/Train/class0'\n",
    "\n",
    "for each in class0 :\n",
    "    srcfile='Datasets/Bronchitis/Train_Images/'+each+'.png'\n",
    "    if random.random()>0.7:\n",
    "        dstdir='Newbronchdataset/train/class0'\n",
    "        shutil.copy(srcfile, dstdir)\n",
    "    else:\n",
    "        dstdir='Newbronchdataset/val/class0'\n",
    "        shutil.copy(srcfile, dstdir)\n",
    "\n"
   ]
  },
  {
   "cell_type": "code",
   "execution_count": 38,
   "metadata": {},
   "outputs": [],
   "source": [
    "for each in class1:\n",
    "    srcfile='Datasets/Bronchitis/Train_Images/'+each+'.png'\n",
    "    if random.random()>0.7:\n",
    "        dstdir='Newbronchdataset/train/class1'\n",
    "        shutil.copy(srcfile, dstdir)\n",
    "    else:\n",
    "        dstdir='Newbronchdataset/val/class1'\n",
    "        shutil.copy(srcfile, dstdir)"
   ]
  },
  {
   "cell_type": "code",
   "execution_count": 39,
   "metadata": {},
   "outputs": [
    {
     "data": {
      "text/plain": [
       "0.08999578027481325"
      ]
     },
     "execution_count": 39,
     "metadata": {},
     "output_type": "execute_result"
    }
   ],
   "source": [
    "random.random()"
   ]
  },
  {
   "cell_type": "code",
   "execution_count": 42,
   "metadata": {},
   "outputs": [],
   "source": [
    "test=os.listdir('Datasets/Bronchitis/Test_Images')"
   ]
  },
  {
   "cell_type": "code",
   "execution_count": 44,
   "metadata": {},
   "outputs": [],
   "source": [
    "for each in test :\n",
    "    srcfile='Datasets/Bronchitis/Test_Images/'+each\n",
    "    dstdir='Newbronchdataset/Test'\n",
    "    shutil.copy(srcfile, dstdir)"
   ]
  },
  {
   "cell_type": "code",
   "execution_count": null,
   "metadata": {},
   "outputs": [],
   "source": []
  }
 ],
 "metadata": {
  "kernelspec": {
   "display_name": "Python 3",
   "language": "python",
   "name": "python3"
  },
  "language_info": {
   "codemirror_mode": {
    "name": "ipython",
    "version": 3
   },
   "file_extension": ".py",
   "mimetype": "text/x-python",
   "name": "python",
   "nbconvert_exporter": "python",
   "pygments_lexer": "ipython3",
   "version": "3.5.2"
  }
 },
 "nbformat": 4,
 "nbformat_minor": 2
}
